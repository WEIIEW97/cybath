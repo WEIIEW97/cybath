{
 "cells": [
  {
   "cell_type": "code",
   "execution_count": 115,
   "metadata": {},
   "outputs": [],
   "source": [
    "import numpy as np\n",
    "import matplotlib.pyplot as plt\n",
    "import heapq\n",
    "import random\n",
    "\n",
    "\n",
    "class Node:\n",
    "    def __init__(self, position, parent=None):\n",
    "        self.position = position\n",
    "        self.parent = parent\n",
    "        self.g = 0\n",
    "        self.h = 0\n",
    "        self.f = 0\n",
    "\n",
    "    def __lt__(self, other):\n",
    "        return self.f < other.f\n",
    "\n",
    "def heuristic(a, b):\n",
    "    return np.sqrt((a[0] - b[0])**2 + (a[1] - b[1])**2)\n",
    "\n",
    "def get_neighbors(node, grid):\n",
    "    neighbors = []\n",
    "    for dx, dy in [(-1, 0), (1, 0), (0, -1), (0, 1), (-1, -1), (1, 1)]:\n",
    "        x, y = node.position[0] + dx, node.position[1] + dy\n",
    "        if 0 <= x < grid.shape[0] and 0 <= y < grid.shape[1] and grid[x, y] == 1:\n",
    "            neighbors.append((x, y))\n",
    "    return neighbors\n",
    "\n",
    "def a_star(start, goal, grid):\n",
    "    start_node = Node(start)\n",
    "    goal_node = Node(goal)\n",
    "    open_list = []\n",
    "    closed_list = set()\n",
    "    heapq.heappush(open_list, start_node)\n",
    "\n",
    "    while open_list:\n",
    "        current_node = heapq.heappop(open_list)\n",
    "        closed_list.add(current_node.position)\n",
    "\n",
    "        if current_node.position == goal_node.position:\n",
    "            path = []\n",
    "            while current_node:\n",
    "                path.append(current_node.position)\n",
    "                current_node = current_node.parent\n",
    "            return path[::-1]\n",
    "\n",
    "        for neighbor_pos in get_neighbors(current_node, grid):\n",
    "            if neighbor_pos in closed_list:\n",
    "                continue\n",
    "\n",
    "            neighbor_node = Node(neighbor_pos, current_node)\n",
    "            neighbor_node.g = current_node.g + 1\n",
    "            neighbor_node.h = heuristic(neighbor_node.position, goal_node.position)\n",
    "            neighbor_node.f = neighbor_node.g + neighbor_node.h\n",
    "\n",
    "            if any(open_node.position == neighbor_node.position and open_node.f <= neighbor_node.f for open_node in open_list):\n",
    "                continue\n",
    "\n",
    "            heapq.heappush(open_list, neighbor_node)\n",
    "\n",
    "    return None\n",
    "\n",
    "def create_occupancy_grid(size, obstacle_percentage=0.2):\n",
    "    grid = np.zeros(size)\n",
    "    \n",
    "    # Randomly place obstacles\n",
    "    num_obstacles = int(obstacle_percentage * size[0] * size[1])\n",
    "    obstacle_indices = random.sample(range(size[0] * size[1]), num_obstacles)\n",
    "    \n",
    "    for idx in obstacle_indices:\n",
    "        x, y = divmod(idx, size[1])\n",
    "        grid[x, y] = 1\n",
    "    \n",
    "    return grid\n",
    "\n",
    "def ensure_path(grid, start, goal):\n",
    "    # Create a simple path from start to goal\n",
    "    x0, y0 = start\n",
    "    x1, y1 = goal\n",
    "    grid[x0, y0] = 1\n",
    "    grid[x1, y1] = 1\n",
    "    \n",
    "    x, y = x0, y0\n",
    "    while x != x1 or y != y1:\n",
    "        if x != x1:\n",
    "            x += 1 if x < x1 else -1\n",
    "        elif y != y1:\n",
    "            y += 1 if y < y1 else -1\n",
    "        grid[x, y] = 1\n",
    "\n",
    "def generate_evenly_distributed_points(size, num_points):\n",
    "    step = int(np.sqrt(size[0] * size[1] / num_points))\n",
    "    points = []\n",
    "    for i in range(step // 2, size[0], step):\n",
    "        for j in range(step // 2, size[1], step):\n",
    "            points.append((i, j))\n",
    "    \n",
    "    # Calculate center points for every four adjacent points\n",
    "    center_points = []\n",
    "    rows = size[0] // step\n",
    "    cols = size[1] // step\n",
    "\n",
    "    for i in range(rows - 1):\n",
    "        for j in range(cols - 1):\n",
    "            p1 = points[i * cols + j]\n",
    "            p2 = points[i * cols + j + 1]\n",
    "            p3 = points[(i + 1) * cols + j]\n",
    "            p4 = points[(i + 1) * cols + j + 1]\n",
    "            \n",
    "            center_x = (p1[0] + p2[0] + p3[0] + p4[0]) // 4\n",
    "            center_y = (p1[1] + p2[1] + p3[1] + p4[1]) // 4\n",
    "            \n",
    "            center_points.append((center_x, center_y))\n",
    "    \n",
    "    # Combine the points and center points\n",
    "    all_points = points + center_points\n",
    "    return all_points\n",
    "\n",
    "def evaluate_exit_points(grid, start, points):\n",
    "    valid_points = []\n",
    "    for point in points:\n",
    "        if grid[point] == 1:\n",
    "            path = a_star(start, point, grid)\n",
    "            if path is not None:\n",
    "                print(f\"the candidate exit point is {point}, where length is {heuristic(start, point)}\")\n",
    "                # valid_points.append((point, len(path)))\n",
    "                valid_points.append((point, heuristic(start, point)))\n",
    "    \n",
    "    if not valid_points:\n",
    "        return None, None\n",
    "    \n",
    "    # Select the point with the longest path\n",
    "    best_point = max(valid_points, key=lambda x: x[1])\n",
    "    return best_point[0], best_point[1]\n",
    "\n",
    "def visualize_grid(grid, path=None, points=None, best_point=None):\n",
    "    plt.figure(figsize=(10, 10))\n",
    "    plt.imshow(grid, cmap='gray', origin='upper')\n",
    "    if path is not None:\n",
    "        path = np.array(path)\n",
    "        plt.plot(path[:, 1], path[:, 0], 'r')\n",
    "    if points is not None:\n",
    "        for point in points:\n",
    "            plt.scatter(point[1], point[0], c='blue')\n",
    "    if best_point is not None:\n",
    "        plt.scatter(best_point[1], best_point[0], c='green', s=100)\n",
    "    plt.title('Occupancy Grid Map with Path and Points')\n",
    "    plt.xlabel('X-axis')\n",
    "    plt.ylabel('Y-axis')\n",
    "    plt.grid(False)\n",
    "    plt.show()\n"
   ]
  },
  {
   "cell_type": "code",
   "execution_count": 151,
   "metadata": {},
   "outputs": [],
   "source": [
    "grid_path = \"../data/grid_map/costmap_f3.png\"\n",
    "grid_fig = plt.imread(grid_path, 'png') # for some reason, matplotlib returns a float matrix for .png\n",
    "grid_fig = (grid_fig * 255).astype(np.uint8)"
   ]
  },
  {
   "cell_type": "code",
   "execution_count": 152,
   "metadata": {},
   "outputs": [
    {
     "data": {
      "text/plain": [
       "array([[0, 0, 0, ..., 0, 0, 0],\n",
       "       [0, 0, 0, ..., 0, 0, 0],\n",
       "       [0, 0, 0, ..., 0, 0, 0],\n",
       "       ...,\n",
       "       [0, 0, 0, ..., 0, 0, 0],\n",
       "       [0, 0, 0, ..., 0, 0, 0],\n",
       "       [0, 0, 0, ..., 0, 0, 0]], dtype=uint8)"
      ]
     },
     "execution_count": 152,
     "metadata": {},
     "output_type": "execute_result"
    }
   ],
   "source": [
    "indices = np.where(grid_fig == 254)\n",
    "walkable_mask = np.zeros_like(grid_fig)\n",
    "walkable_mask[indices] = 1\n",
    "walkable_mask"
   ]
  },
  {
   "cell_type": "code",
   "execution_count": 153,
   "metadata": {},
   "outputs": [
    {
     "data": {
      "text/plain": [
       "<matplotlib.image.AxesImage at 0x11847a390>"
      ]
     },
     "execution_count": 153,
     "metadata": {},
     "output_type": "execute_result"
    },
    {
     "data": {
      "image/png": "[encoded data removed]",
      "text/plain": [
       "<Figure size 640x480 with 1 Axes>"
      ]
     },
     "metadata": {},
     "output_type": "display_data"
    }
   ],
   "source": [
    "plt.imshow(walkable_mask)"
   ]
  },
  {
   "cell_type": "code",
   "execution_count": 154,
   "metadata": {},
   "outputs": [],
   "source": [
    "entrance_point_candidates_row = np.where(walkable_mask==1)[0][-21:-1]\n",
    "entrance_point_candidates_col = np.where(walkable_mask==1)[1][-21:-1]"
   ]
  },
  {
   "cell_type": "code",
   "execution_count": 155,
   "metadata": {},
   "outputs": [
    {
     "data": {
      "text/plain": [
       "(115, 94)"
      ]
     },
     "execution_count": 155,
     "metadata": {},
     "output_type": "execute_result"
    }
   ],
   "source": [
    "start_point = (int(np.mean(entrance_point_candidates_row)), int(np.mean(entrance_point_candidates_col)))\n",
    "start_point"
   ]
  },
  {
   "cell_type": "code",
   "execution_count": 156,
   "metadata": {},
   "outputs": [
    {
     "name": "stdout",
     "output_type": "stream",
     "text": [
      "1\n"
     ]
    }
   ],
   "source": [
    "print(walkable_mask[start_point])"
   ]
  },
  {
   "cell_type": "code",
   "execution_count": 157,
   "metadata": {},
   "outputs": [
    {
     "name": "stdout",
     "output_type": "stream",
     "text": [
      "the candidate exit point is (12, 87), where length is 103.23759005323593\n",
      "the candidate exit point is (37, 87), where length is 78.31347265956222\n",
      "the candidate exit point is (62, 112), where length is 55.97320787662612\n",
      "the candidate exit point is (87, 87), where length is 28.861739379323623\n",
      "the candidate exit point is (87, 112), where length is 33.28663395418648\n",
      "the candidate exit point is (112, 87), where length is 7.615773105863909\n",
      "the candidate exit point is (112, 112), where length is 18.24828759089466\n",
      "the candidate exit point is (49, 74), where length is 68.96375859826666\n",
      "the candidate exit point is (49, 99), where length is 66.18912297349165\n",
      "the candidate exit point is (49, 124), where length is 72.49827584156743\n",
      "the candidate exit point is (99, 99), where length is 16.76305461424021\n",
      "the candidate exit point is (99, 124), where length is 34.0\n"
     ]
    },
    {
     "data": {
      "image/png": "[encoded data removed]",
      "text/plain": [
       "<Figure size 1000x1000 with 1 Axes>"
      ]
     },
     "metadata": {},
     "output_type": "display_data"
    },
    {
     "name": "stdout",
     "output_type": "stream",
     "text": [
      "The best exit point is (12, 87) with a path length of 103.23759005323593.\n"
     ]
    }
   ],
   "source": [
    "size = (200, 200)\n",
    "start = start_point\n",
    "\n",
    "occupancy_grid = walkable_mask\n",
    "\n",
    "# Ensure there is a path from start to goal\n",
    "# ensure_path(occupancy_grid, start, goal)\n",
    "\n",
    "# Generate 25 evenly distributed points\n",
    "points = generate_evenly_distributed_points(size, 64)\n",
    "\n",
    "# Evaluate the points to find the best exit point\n",
    "best_exit_point, path_length = evaluate_exit_points(occupancy_grid, start, points)\n",
    "\n",
    "# Visualize the grid and the path\n",
    "if best_exit_point is not None:\n",
    "    best_path = a_star(start, best_exit_point, occupancy_grid)\n",
    "    visualize_grid(occupancy_grid, best_path, points, best_exit_point)\n",
    "    print(f\"The best exit point is {best_exit_point} with a path length of {path_length}.\")\n",
    "else:\n",
    "    print(\"No valid exit point found.\")"
   ]
  },
  {
   "cell_type": "code",
   "execution_count": null,
   "metadata": {},
   "outputs": [],
   "source": []
  }
 ],
 "metadata": {
  "kernelspec": {
   "display_name": "base",
   "language": "python",
   "name": "python3"
  },
  "language_info": {
   "codemirror_mode": {
    "name": "ipython",
    "version": 3
   },
   "file_extension": ".py",
   "mimetype": "text/x-python",
   "name": "python",
   "nbconvert_exporter": "python",
   "pygments_lexer": "ipython3",
   "version": "3.11.5"
  }
 },
 "nbformat": 4,
 "nbformat_minor": 2
}
